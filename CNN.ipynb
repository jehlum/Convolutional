{
 "cells": [
  {
   "cell_type": "code",
   "execution_count": 32,
   "metadata": {},
   "outputs": [],
   "source": [
    "import pandas as pd\n",
    "import os\n",
    "import numpy as np\n",
    "from scipy import stats\n",
    "import tensorflow as tf\n",
    "from tensorflow.keras import Sequential\n",
    "from tensorflow.keras.models import  model_from_json \n",
    "from tensorflow.keras.layers import Dense, Conv2D, MaxPooling2D, Dropout, Flatten\n",
    "import warnings\n",
    "warnings.filterwarnings('ignore')\n",
    "\n",
    "files = os.listdir(\"accel\")"
   ]
  },
  {
   "cell_type": "code",
   "execution_count": 42,
   "metadata": {},
   "outputs": [],
   "source": [
    "def get_segments(dataframe, step,segment_size =128):\n",
    "    \n",
    "    segments = []\n",
    "    labels = []\n",
    "    \n",
    "            \n",
    "    for i in range(0,  dataframe.shape[0]- segment_size, step):  \n",
    "\n",
    "        xs = dataframe['x-axis'].values[i: i + segment_size]\n",
    "        ys = dataframe['y-axis'].values[i: i + segment_size]\n",
    "        zs = dataframe['z-axis'].values[i: i + segment_size]\n",
    "        label = stats.mode(dataframe['activity'][i: i + segment_size])[0]\n",
    "        segments.append([xs, ys, zs])\n",
    "        labels.append(label[0])\n",
    "        \n",
    "    #reshape the segments which is (list of arrays) to a list\n",
    "    print(np.array(segments).shape)\n",
    "    reshaped_segments = np.asarray(segments, dtype= np.float32).reshape(-1, 1, segment_size,3)\n",
    "\n",
    "    labels = np.asarray(pd.get_dummies(labels), dtype = np.float32)\n",
    "    return reshaped_segments , np.array(labels)\n",
    "\n",
    "def loading_files(txt_files, start_file , end_file):\n",
    "    columns = ['user','activity','timestamp', 'x-axis', 'y-axis', 'z-axis']\n",
    "    df = pd.concat([pd.read_csv('accel/'+item, names=columns) for item in txt_files[start_file:end_file]]).reset_index(drop=True)\n",
    "\n",
    "    df = df.dropna()\n",
    "    df['z-axis'] = df['z-axis'].str.replace(';', '')\n",
    "    df['z-axis'] = df['z-axis'].apply(lambda x:float(x))\n",
    "\n",
    "    df = df[df['timestamp'] != 0]\n",
    "    df = df.sort_values(by = ['user', 'timestamp'], ignore_index=True)\n",
    "\n",
    "    walk = df[df['activity'] == 'A'  ].reset_index(drop=True)\n",
    "    run = df[df['activity'] == 'B'  ].reset_index(drop=True)\n",
    "    sit = df[df['activity'] == 'D'  ].reset_index(drop=True)\n",
    "    stand = df[df['activity'] == 'E'  ].reset_index(drop=True)\n",
    "\n",
    "    df = pd.concat([walk,run,sit,stand]).reset_index(drop=True)\n",
    "    return df"
   ]
  },
  {
   "cell_type": "code",
   "execution_count": 43,
   "metadata": {},
   "outputs": [],
   "source": [
    "txt_files = [file for file in files]\n",
    "df = loading_files(txt_files ,0,20)\n",
    "df_test =loading_files(txt_files ,21,26)"
   ]
  },
  {
   "cell_type": "code",
   "execution_count": 5,
   "metadata": {},
   "outputs": [
    {
     "data": {
      "text/html": [
       "<div>\n",
       "<style scoped>\n",
       "    .dataframe tbody tr th:only-of-type {\n",
       "        vertical-align: middle;\n",
       "    }\n",
       "\n",
       "    .dataframe tbody tr th {\n",
       "        vertical-align: top;\n",
       "    }\n",
       "\n",
       "    .dataframe thead th {\n",
       "        text-align: right;\n",
       "    }\n",
       "</style>\n",
       "<table border=\"1\" class=\"dataframe\">\n",
       "  <thead>\n",
       "    <tr style=\"text-align: right;\">\n",
       "      <th></th>\n",
       "      <th>user</th>\n",
       "      <th>activity</th>\n",
       "      <th>timestamp</th>\n",
       "      <th>x-axis</th>\n",
       "      <th>y-axis</th>\n",
       "      <th>z-axis</th>\n",
       "    </tr>\n",
       "  </thead>\n",
       "  <tbody>\n",
       "    <tr>\n",
       "      <th>0</th>\n",
       "      <td>1600</td>\n",
       "      <td>A</td>\n",
       "      <td>90426708196641</td>\n",
       "      <td>7.091625</td>\n",
       "      <td>-0.591667</td>\n",
       "      <td>8.195502</td>\n",
       "    </tr>\n",
       "    <tr>\n",
       "      <th>1</th>\n",
       "      <td>1600</td>\n",
       "      <td>A</td>\n",
       "      <td>90426757696641</td>\n",
       "      <td>4.972757</td>\n",
       "      <td>-0.158317</td>\n",
       "      <td>6.696732</td>\n",
       "    </tr>\n",
       "    <tr>\n",
       "      <th>2</th>\n",
       "      <td>1600</td>\n",
       "      <td>A</td>\n",
       "      <td>90426807196641</td>\n",
       "      <td>3.253720</td>\n",
       "      <td>-0.191835</td>\n",
       "      <td>6.107758</td>\n",
       "    </tr>\n",
       "    <tr>\n",
       "      <th>3</th>\n",
       "      <td>1600</td>\n",
       "      <td>A</td>\n",
       "      <td>90426856696641</td>\n",
       "      <td>2.801216</td>\n",
       "      <td>-0.155922</td>\n",
       "      <td>5.997625</td>\n",
       "    </tr>\n",
       "    <tr>\n",
       "      <th>4</th>\n",
       "      <td>1600</td>\n",
       "      <td>A</td>\n",
       "      <td>90426906196641</td>\n",
       "      <td>3.770868</td>\n",
       "      <td>-1.051354</td>\n",
       "      <td>7.731027</td>\n",
       "    </tr>\n",
       "    <tr>\n",
       "      <th>5</th>\n",
       "      <td>1600</td>\n",
       "      <td>A</td>\n",
       "      <td>90426955696641</td>\n",
       "      <td>4.661511</td>\n",
       "      <td>0.169689</td>\n",
       "      <td>9.684695</td>\n",
       "    </tr>\n",
       "    <tr>\n",
       "      <th>6</th>\n",
       "      <td>1600</td>\n",
       "      <td>A</td>\n",
       "      <td>90427005196641</td>\n",
       "      <td>6.145916</td>\n",
       "      <td>0.832883</td>\n",
       "      <td>11.003901</td>\n",
       "    </tr>\n",
       "    <tr>\n",
       "      <th>7</th>\n",
       "      <td>1600</td>\n",
       "      <td>A</td>\n",
       "      <td>90427054696641</td>\n",
       "      <td>7.259220</td>\n",
       "      <td>-0.792780</td>\n",
       "      <td>11.485135</td>\n",
       "    </tr>\n",
       "    <tr>\n",
       "      <th>8</th>\n",
       "      <td>1600</td>\n",
       "      <td>A</td>\n",
       "      <td>90427104196641</td>\n",
       "      <td>7.354988</td>\n",
       "      <td>-2.535759</td>\n",
       "      <td>11.454011</td>\n",
       "    </tr>\n",
       "    <tr>\n",
       "      <th>9</th>\n",
       "      <td>1600</td>\n",
       "      <td>A</td>\n",
       "      <td>90427153696641</td>\n",
       "      <td>7.319075</td>\n",
       "      <td>-2.700959</td>\n",
       "      <td>11.461193</td>\n",
       "    </tr>\n",
       "  </tbody>\n",
       "</table>\n",
       "</div>"
      ],
      "text/plain": [
       "   user activity       timestamp    x-axis    y-axis     z-axis\n",
       "0  1600        A  90426708196641  7.091625 -0.591667   8.195502\n",
       "1  1600        A  90426757696641  4.972757 -0.158317   6.696732\n",
       "2  1600        A  90426807196641  3.253720 -0.191835   6.107758\n",
       "3  1600        A  90426856696641  2.801216 -0.155922   5.997625\n",
       "4  1600        A  90426906196641  3.770868 -1.051354   7.731027\n",
       "5  1600        A  90426955696641  4.661511  0.169689   9.684695\n",
       "6  1600        A  90427005196641  6.145916  0.832883  11.003901\n",
       "7  1600        A  90427054696641  7.259220 -0.792780  11.485135\n",
       "8  1600        A  90427104196641  7.354988 -2.535759  11.454011\n",
       "9  1600        A  90427153696641  7.319075 -2.700959  11.461193"
      ]
     },
     "execution_count": 5,
     "metadata": {},
     "output_type": "execute_result"
    }
   ],
   "source": [
    "#A = 1\n",
    "#B = 2\n",
    "#D = 3\n",
    "#E = 4\n",
    "df.head(10)"
   ]
  },
  {
   "cell_type": "code",
   "execution_count": 45,
   "metadata": {},
   "outputs": [
    {
     "name": "stdout",
     "output_type": "stream",
     "text": [
      "(7794, 3, 100)\n",
      "(289, 3, 100)\n",
      "(397, 3, 100)\n",
      "(287, 3, 100)\n",
      "(287, 3, 100)\n",
      "(286, 3, 100)\n"
     ]
    }
   ],
   "source": [
    "train_segments , train_labels = get_segments(df,50,100)\n",
    "\n",
    "test_dictionary = {}\n",
    "for i in df_test['user'].unique():\n",
    "    temp_df = df_test[df_test['user'] == i]\n",
    "    test , testL = get_segments(temp_df,50,100)\n",
    "    test_dictionary[i] = (test , testL)"
   ]
  },
  {
   "cell_type": "code",
   "execution_count": 46,
   "metadata": {},
   "outputs": [
    {
     "name": "stdout",
     "output_type": "stream",
     "text": [
      "(7794, 1, 100, 3) (7794, 4)\n"
     ]
    }
   ],
   "source": [
    "print(train_segments.shape, train_labels.shape)"
   ]
  },
  {
   "cell_type": "code",
   "execution_count": 47,
   "metadata": {},
   "outputs": [],
   "source": [
    "initializer = tf.keras.initializers.Orthogonal()"
   ]
  },
  {
   "cell_type": "code",
   "execution_count": 48,
   "metadata": {},
   "outputs": [],
   "source": [
    "import tensorflow as tf\n",
    "from tensorflow.keras.layers import Conv2D, MaxPooling2D, Dropout, GlobalAveragePooling2D, Dense\n",
    "\n",
    "model = Sequential()\n",
    "model.add(Conv2D(16, (1, 1), name=\"conv2d_1\", input_shape=(1, 100, 3), padding=\"same\",kernel_initializer=initializer,bias_initializer='zeros'))\n",
    "model.add(MaxPooling2D((1, 2), name=\"max_pooling2d_1\"))\n",
    "\n",
    "model.add(Conv2D(64, (1, 1), name=\"conv2d_2\", padding=\"same\",kernel_initializer=initializer,bias_initializer='zeros'))\n",
    "model.add(MaxPooling2D((1, 2), name=\"max_pooling2d_2\"))\n",
    "\n",
    "model.add(Dropout(0.5, name=\"dropout_1\"))\n",
    "\n",
    "model.add(Conv2D(256, (1, 12), name=\"conv2d_3\",kernel_initializer=initializer,bias_initializer='zeros'))\n",
    "model.add(MaxPooling2D((1, 2), name=\"max_pooling2d_3\"))\n",
    "\n",
    "model.add(Conv2D(512, (1, 1), name=\"conv2d_4\",kernel_initializer=initializer,bias_initializer='zeros'))\n",
    "model.add(MaxPooling2D((1, 2), name=\"max_pooling2d_4\"))\n",
    "\n",
    "model.add(Dropout(0.5, name=\"dropout_2\"))\n",
    "\n",
    "model.add(GlobalAveragePooling2D(name=\"global_average_pooling\"))\n",
    "\n",
    "model.add(Dense(50, activation='relu', name=\"dense_1\",kernel_initializer=initializer,bias_initializer='zeros'))\n",
    "model.add(Dense(4, activation='relu', name=\"dense_2\",kernel_initializer=initializer,bias_initializer='zeros'))"
   ]
  },
  {
   "cell_type": "code",
   "execution_count": 49,
   "metadata": {},
   "outputs": [
    {
     "name": "stdout",
     "output_type": "stream",
     "text": [
      "(None, 1, 100, 16) conv2d_1\n",
      "(None, 1, 50, 16) max_pooling2d_1\n",
      "(None, 1, 50, 64) conv2d_2\n",
      "(None, 1, 25, 64) max_pooling2d_2\n",
      "(None, 1, 25, 64) dropout_1\n",
      "(None, 1, 14, 256) conv2d_3\n",
      "(None, 1, 7, 256) max_pooling2d_3\n",
      "(None, 1, 7, 512) conv2d_4\n",
      "(None, 1, 3, 512) max_pooling2d_4\n",
      "(None, 1, 3, 512) dropout_2\n",
      "(None, 512) global_average_pooling\n",
      "(None, 50) dense_1\n",
      "(None, 4) dense_2\n"
     ]
    }
   ],
   "source": [
    "for layer in model.layers:\n",
    "    print(layer.output_shape , layer.name)"
   ]
  },
  {
   "cell_type": "code",
   "execution_count": 50,
   "metadata": {},
   "outputs": [
    {
     "name": "stdout",
     "output_type": "stream",
     "text": [
      "Model: \"sequential_1\"\n",
      "_________________________________________________________________\n",
      " Layer (type)                Output Shape              Param #   \n",
      "=================================================================\n",
      " conv2d_1 (Conv2D)           (None, 1, 100, 16)        64        \n",
      "                                                                 \n",
      " max_pooling2d_1 (MaxPoolin  (None, 1, 50, 16)         0         \n",
      " g2D)                                                            \n",
      "                                                                 \n",
      " conv2d_2 (Conv2D)           (None, 1, 50, 64)         1088      \n",
      "                                                                 \n",
      " max_pooling2d_2 (MaxPoolin  (None, 1, 25, 64)         0         \n",
      " g2D)                                                            \n",
      "                                                                 \n",
      " dropout_1 (Dropout)         (None, 1, 25, 64)         0         \n",
      "                                                                 \n",
      " conv2d_3 (Conv2D)           (None, 1, 14, 256)        196864    \n",
      "                                                                 \n",
      " max_pooling2d_3 (MaxPoolin  (None, 1, 7, 256)         0         \n",
      " g2D)                                                            \n",
      "                                                                 \n",
      " conv2d_4 (Conv2D)           (None, 1, 7, 512)         131584    \n",
      "                                                                 \n",
      " max_pooling2d_4 (MaxPoolin  (None, 1, 3, 512)         0         \n",
      " g2D)                                                            \n",
      "                                                                 \n",
      " dropout_2 (Dropout)         (None, 1, 3, 512)         0         \n",
      "                                                                 \n",
      " global_average_pooling (Gl  (None, 512)               0         \n",
      " obalAveragePooling2D)                                           \n",
      "                                                                 \n",
      " dense_1 (Dense)             (None, 50)                25650     \n",
      "                                                                 \n",
      " dense_2 (Dense)             (None, 4)                 204       \n",
      "                                                                 \n",
      "=================================================================\n",
      "Total params: 355454 (1.36 MB)\n",
      "Trainable params: 355454 (1.36 MB)\n",
      "Non-trainable params: 0 (0.00 Byte)\n",
      "_________________________________________________________________\n"
     ]
    }
   ],
   "source": [
    "model.summary()\n"
   ]
  },
  {
   "cell_type": "code",
   "execution_count": 12,
   "metadata": {},
   "outputs": [
    {
     "name": "stdout",
     "output_type": "stream",
     "text": [
      "Epoch 1/20\n",
      "122/122 [==============================] - 6s 37ms/step - loss: 0.4684 - accuracy: 0.8002\n",
      "Epoch 2/20\n",
      "122/122 [==============================] - 4s 34ms/step - loss: 0.2460 - accuracy: 0.9039\n",
      "Epoch 3/20\n",
      "122/122 [==============================] - 4s 36ms/step - loss: 0.2211 - accuracy: 0.9095\n",
      "Epoch 4/20\n",
      "122/122 [==============================] - 4s 34ms/step - loss: 0.1778 - accuracy: 0.9240\n",
      "Epoch 5/20\n",
      "122/122 [==============================] - 4s 35ms/step - loss: 0.1796 - accuracy: 0.9267\n",
      "Epoch 6/20\n",
      "122/122 [==============================] - 4s 35ms/step - loss: 0.1750 - accuracy: 0.9244\n",
      "Epoch 7/20\n",
      "122/122 [==============================] - 4s 35ms/step - loss: 0.1519 - accuracy: 0.9326\n",
      "Epoch 8/20\n",
      "122/122 [==============================] - 5s 37ms/step - loss: 0.1612 - accuracy: 0.9296\n",
      "Epoch 9/20\n",
      "122/122 [==============================] - 4s 35ms/step - loss: 0.1490 - accuracy: 0.9334\n",
      "Epoch 10/20\n",
      "122/122 [==============================] - 4s 33ms/step - loss: 0.1680 - accuracy: 0.9243\n",
      "Epoch 11/20\n",
      "122/122 [==============================] - 5s 37ms/step - loss: 0.1888 - accuracy: 0.9228\n",
      "Epoch 12/20\n",
      "122/122 [==============================] - 4s 34ms/step - loss: 0.1491 - accuracy: 0.9335\n",
      "Epoch 13/20\n",
      "122/122 [==============================] - 4s 35ms/step - loss: 0.1409 - accuracy: 0.9325\n",
      "Epoch 14/20\n",
      "122/122 [==============================] - 5s 38ms/step - loss: 0.1281 - accuracy: 0.9402\n",
      "Epoch 15/20\n",
      "122/122 [==============================] - 7s 59ms/step - loss: 0.1371 - accuracy: 0.9348\n",
      "Epoch 16/20\n",
      "122/122 [==============================] - 5s 45ms/step - loss: 0.1390 - accuracy: 0.9360\n",
      "Epoch 17/20\n",
      "122/122 [==============================] - 4s 31ms/step - loss: 0.1352 - accuracy: 0.9370\n",
      "Epoch 18/20\n",
      "122/122 [==============================] - 4s 30ms/step - loss: 0.1341 - accuracy: 0.9378\n",
      "Epoch 19/20\n",
      "122/122 [==============================] - 4s 34ms/step - loss: 0.1291 - accuracy: 0.9398\n",
      "Epoch 20/20\n",
      "122/122 [==============================] - 5s 38ms/step - loss: 0.1294 - accuracy: 0.9376\n"
     ]
    }
   ],
   "source": [
    "model.compile(optimizer='adam',\n",
    "              loss=tf.keras.losses.CategoricalCrossentropy(from_logits=True),\n",
    "              metrics=['accuracy'])\n",
    "\n",
    "history = model.fit(train_segments, train_labels,batch_size=64,epochs=20)"
   ]
  },
  {
   "cell_type": "code",
   "execution_count": 31,
   "metadata": {},
   "outputs": [
    {
     "name": "stdout",
     "output_type": "stream",
     "text": [
      "Result for User  1602\n",
      "10/10 [==============================] - 0s 8ms/step - loss: 0.1132 - accuracy: 0.9412\n",
      "Result for User  1628\n",
      "13/13 [==============================] - 0s 6ms/step - loss: 2.4750 - accuracy: 0.4962\n",
      "Result for User  1632\n",
      "9/9 [==============================] - 0s 9ms/step - loss: 0.0750 - accuracy: 0.9861\n",
      "Result for User  1635\n",
      "9/9 [==============================] - 0s 7ms/step - loss: 0.2253 - accuracy: 0.9094\n",
      "Result for User  1643\n",
      "9/9 [==============================] - 0s 8ms/step - loss: 0.0263 - accuracy: 0.9895\n"
     ]
    }
   ],
   "source": [
    "for key in test_dictionary.keys():\n",
    "    test, testL = test_dictionary[key]\n",
    "    print(\"Result for User \",key)\n",
    "    model.evaluate(test, testL)"
   ]
  },
  {
   "cell_type": "code",
   "execution_count": 159,
   "metadata": {},
   "outputs": [
    {
     "name": "stdout",
     "output_type": "stream",
     "text": [
      "Saved model to disk\n"
     ]
    }
   ],
   "source": [
    "model_json = model.to_json()\n",
    "with open(\"model.json\", \"w\") as json_file:\n",
    "    json_file.write(model_json)\n",
    "# serialize weights to HDF5\n",
    "model.save_weights(\"model.h5\")\n",
    "print(\"Saved model to disk\")"
   ]
  },
  {
   "cell_type": "code",
   "execution_count": null,
   "metadata": {},
   "outputs": [],
   "source": [
    "json_file = open('model.json', 'r')\n",
    "loaded_model_json = json_file.read()\n",
    "json_file.close()\n",
    "loaded_model = model_from_json(loaded_model_json)\n",
    "# load weights into new model\n",
    "loaded_model.load_weights(\"model.h5\")\n",
    "print(\"Loaded model from disk\")"
   ]
  }
 ],
 "metadata": {
  "kernelspec": {
   "display_name": "virenv",
   "language": "python",
   "name": "python3"
  },
  "language_info": {
   "codemirror_mode": {
    "name": "ipython",
    "version": 3
   },
   "file_extension": ".py",
   "mimetype": "text/x-python",
   "name": "python",
   "nbconvert_exporter": "python",
   "pygments_lexer": "ipython3",
   "version": "3.8.10"
  }
 },
 "nbformat": 4,
 "nbformat_minor": 2
}
